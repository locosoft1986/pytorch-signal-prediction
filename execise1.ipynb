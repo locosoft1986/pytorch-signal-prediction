{
 "cells": [
  {
   "cell_type": "code",
   "execution_count": 1,
   "metadata": {
    "collapsed": true
   },
   "outputs": [],
   "source": [
    "from datasets import generate_x_y_data_v1 as generate_data\n",
    "import numpy as np\n",
    "import matplotlib.pyplot as plt"
   ]
  },
  {
   "cell_type": "code",
   "execution_count": 2,
   "metadata": {},
   "outputs": [
    {
     "name": "stdout",
     "output_type": "stream",
     "text": [
      "Dimensions of the dataset for 3 X and 3 Y training examples : \n",
      "(10, 3, 2)\n",
      "(10, 3, 2)\n",
      "(seq_length, batch_size, output_dim)\n"
     ]
    }
   ],
   "source": [
    "sample_x, sample_y = generate_data(isTrain=True, batch_size=3)\n",
    "print(\"Dimensions of the dataset for 3 X and 3 Y training examples : \")\n",
    "print(sample_x.shape)\n",
    "print(sample_y.shape)\n",
    "print(\"(seq_length, batch_size, output_dim)\")"
   ]
  },
  {
   "cell_type": "code",
   "execution_count": 3,
   "metadata": {},
   "outputs": [
    {
     "data": {
      "image/png": "[encoded data removed]",
      "text/plain": [
       "<matplotlib.figure.Figure at 0x1127c0b38>"
      ]
     },
     "metadata": {},
     "output_type": "display_data"
    }
   ],
   "source": [
    "import math\n",
    "\n",
    "plt.figure()\n",
    "x_axis = np.linspace(0, 10, 10)\n",
    "for i in range(3):\n",
    "    plt.subplot(311+i)\n",
    "    plt.yticks(np.linspace(-1,1,5))\n",
    "    plt.plot(x_axis, sample_x[:, i, 0], 'r', x_axis, sample_x[:, i, 1], 'b')\n",
    "    plt.plot(x_axis+11, sample_y[:, i, 0], 'r--', x_axis+11, sample_y[:, i, 1], 'b--')\n",
    "\n",
    "plt.show()"
   ]
  },
  {
   "cell_type": "code",
   "execution_count": 4,
   "metadata": {
    "collapsed": true
   },
   "outputs": [],
   "source": [
    "from model.decoders import Decoder\n",
    "from model.encoders import Encoder\n",
    "import torch\n",
    "import torch.autograd as autograd\n",
    "import torch.nn as nn\n",
    "import torch.nn.functional as F\n",
    "import torch.optim as optim\n",
    "\n",
    "torch.manual_seed(1)\n",
    "\n",
    "# Internal neural network parameters\n",
    "# Time series will have the same past and future (to be predicted) lenght.\n",
    "seq_length = sample_x.shape[1]\n",
    "batch_size = 5  # Low value used for live demo purposes - 100 and 1000 would be possible too, crank that up!\n",
    "\n",
    "# Output dimension (e.g.: multiple signals at once, tied in time)\n",
    "output_dim = input_dim = sample_x.shape[-1]\n",
    "hidden_dim = 12  # Count of hidden neurons in the recurrent units.\n",
    "# Number of stacked recurrent cells, on the neural depth axis.\n",
    "layers_stacked_count = 2\n",
    "\n",
    "# Optmizer:\n",
    "learning_rate = 0.007  # Small lr helps not to diverge during training.\n",
    "# How many times we perform a training step (therefore how many times we\n",
    "# show a batch).\n",
    "nb_iters = 150\n",
    "lr_decay = 0.92  # default: 0.9 . Simulated annealing.\n",
    "momentum = 0.5  # default: 0.0 . Momentum technique in weights update\n",
    "lambda_l2_reg = 0.003  # L2 regularization of weights - avoids overfitting"
   ]
  },
  {
   "cell_type": "code",
   "execution_count": 5,
   "metadata": {},
   "outputs": [
    {
     "name": "stdout",
     "output_type": "stream",
     "text": [
      "Encoder (\n",
      "  (encoder): LSTM(2, 12, num_layers=2)\n",
      ")\n"
     ]
    }
   ],
   "source": [
    "test_encoder = Encoder(input_dim, hidden_dim, number_of_layers=layers_stacked_count)\n",
    "\n",
    "# initialize the hidden state(num_layers, batch_size, hidden_size).\n",
    "hidden = (autograd.Variable(torch.randn((layers_stacked_count, batch_size, hidden_dim))),\n",
    "          autograd.Variable(torch.randn((layers_stacked_count, batch_size, hidden_dim))))\n",
    "\n",
    "sample_x, sample_y = generate_data(isTrain=True, batch_size=batch_size)\n",
    "input_x = autograd.Variable(torch.FloatTensor(sample_x), requires_grad=False)\n",
    "\n",
    "print(test_encoder)"
   ]
  },
  {
   "cell_type": "code",
   "execution_count": 6,
   "metadata": {},
   "outputs": [
    {
     "name": "stdout",
     "output_type": "stream",
     "text": [
      "Variable containing:\n",
      "\n",
      "Columns 0 to 9 \n",
      "-0.0568 -0.1679  0.1500  0.0230 -0.1483  0.1639  0.0000 -0.1610 -0.0119  0.0729\n",
      "-0.0896 -0.1135  0.1754  0.0572 -0.1335  0.1290 -0.0138 -0.1537 -0.0139  0.0696\n",
      "-0.1318 -0.0878  0.2104  0.0615 -0.1318  0.0688  0.0073 -0.1262 -0.0372  0.0515\n",
      "-0.1256 -0.0860  0.2030  0.0799 -0.1217  0.0833 -0.0028 -0.1321 -0.0296  0.0594\n",
      "-0.0902 -0.1074  0.1766  0.0626 -0.1352  0.1279 -0.0205 -0.1498 -0.0224  0.0731\n",
      "\n",
      "Columns 10 to 11 \n",
      " 0.1736 -0.1944\n",
      " 0.1420 -0.1693\n",
      " 0.1379 -0.1687\n",
      " 0.1447 -0.1683\n",
      " 0.1299 -0.1662\n",
      "[torch.FloatTensor of size 5x12]\n",
      "\n"
     ]
    }
   ],
   "source": [
    "encoder_output, encoder_state = test_encoder(input_x,hidden)\n",
    "print(encoder_output[-1])"
   ]
  },
  {
   "cell_type": "code",
   "execution_count": 7,
   "metadata": {},
   "outputs": [
    {
     "name": "stdout",
     "output_type": "stream",
     "text": [
      "Decoder (\n",
      "  (decoder): LSTM(12, 12, num_layers=2)\n",
      "  (linear): Linear (12 -> 2)\n",
      ")\n"
     ]
    }
   ],
   "source": [
    "test_decoder = Decoder(hidden_dim, hidden_dim, output_dim, number_of_layers=layers_stacked_count)\n",
    "print(test_decoder)"
   ]
  },
  {
   "cell_type": "code",
   "execution_count": 8,
   "metadata": {},
   "outputs": [],
   "source": [
    "decoder_input = torch.unsqueeze(encoder_output[-1], 0)\n",
    "\n",
    "def forward_decoder(next_input, length, next_hidden):\n",
    "    output = []\n",
    "    for _ in range(length):\n",
    "        decoder_output, next_input, next_hidden = test_decoder(next_input, next_hidden)\n",
    "        output += [decoder_output]\n",
    "    \n",
    "    return output\n",
    "\n",
    "predicts = forward_decoder(decoder_input, 10, hidden)"
   ]
  },
  {
   "cell_type": "code",
   "execution_count": 9,
   "metadata": {},
   "outputs": [
    {
     "name": "stdout",
     "output_type": "stream",
     "text": [
      "Variable containing:\n",
      "-0.1482 -0.4090\n",
      "-0.1828 -0.3965\n",
      "-0.2233 -0.4161\n",
      "-0.2437 -0.4216\n",
      "-0.2511 -0.4211\n",
      "-0.2522 -0.4184\n",
      "-0.2509 -0.4153\n",
      "-0.2491 -0.4126\n",
      "-0.2474 -0.4104\n",
      "-0.2459 -0.4087\n",
      "[torch.FloatTensor of size 10x2]\n",
      "\n"
     ]
    }
   ],
   "source": [
    "outputs = torch.stack(predicts, 1).squeeze()\n",
    "print(outputs)"
   ]
  },
  {
   "cell_type": "code",
   "execution_count": 10,
   "metadata": {
    "collapsed": true
   },
   "outputs": [],
   "source": [
    "criterion = nn.MSELoss()\n",
    "\n"
   ]
  }
 ],
 "metadata": {
  "kernelspec": {
   "display_name": "Python 3",
   "language": "python",
   "name": "python3"
  },
  "language_info": {
   "codemirror_mode": {
    "name": "ipython",
    "version": 3
   },
   "file_extension": ".py",
   "mimetype": "text/x-python",
   "name": "python",
   "nbconvert_exporter": "python",
   "pygments_lexer": "ipython3",
   "version": "3.6.1"
  }
 },
 "nbformat": 4,
 "nbformat_minor": 2
}
