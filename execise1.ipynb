{
 "cells": [
  {
   "cell_type": "code",
   "execution_count": null,
   "metadata": {
    "collapsed": true
   },
   "outputs": [],
   "source": [
    "from datasets import generate_x_y_data_v1 as generate_data\n",
    "import numpy as np\n",
    "import matplotlib.pyplot as plt"
   ]
  },
  {
   "cell_type": "code",
   "execution_count": null,
   "metadata": {},
   "outputs": [],
   "source": [
    "sample_x, sample_y = generate_data(isTrain=True, batch_size=3)\n",
    "print(\"Dimensions of the dataset for 3 X and 3 Y training examples : \")\n",
    "print(sample_x.shape)\n",
    "print(sample_y.shape)\n",
    "print(\"(seq_length, batch_size, output_dim)\")"
   ]
  },
  {
   "cell_type": "code",
   "execution_count": null,
   "metadata": {},
   "outputs": [],
   "source": [
    "import math\n",
    "\n",
    "plt.figure()\n",
    "x_axis = np.linspace(0, 10, 10)\n",
    "for i in range(3):\n",
    "    plt.subplot(311+i)\n",
    "    plt.yticks(np.linspace(-1,1,5))\n",
    "    plt.plot(x_axis, sample_x[:, i, 0], 'r', x_axis, sample_x[:, i, 1], 'b')\n",
    "    plt.plot(x_axis+11, sample_y[:, i, 0], 'r--', x_axis+11, sample_y[:, i, 1], 'b--')\n",
    "\n",
    "plt.show()"
   ]
  },
  {
   "cell_type": "code",
   "execution_count": null,
   "metadata": {
    "collapsed": true
   },
   "outputs": [],
   "source": [
    "from model.decoders import Decoder\n",
    "from model.encoders import Encoder\n",
    "import torch\n",
    "import torch.autograd as autograd\n",
    "import torch.nn as nn\n",
    "import torch.nn.functional as F\n",
    "import torch.optim as optim\n",
    "\n",
    "torch.manual_seed(1)\n",
    "\n",
    "# Internal neural network parameters\n",
    "# Time series will have the same past and future (to be predicted) lenght.\n",
    "seq_length = sample_x.shape[1]\n",
    "batch_size = 5  # Low value used for live demo purposes - 100 and 1000 would be possible too, crank that up!\n",
    "\n",
    "# Output dimension (e.g.: multiple signals at once, tied in time)\n",
    "output_dim = input_dim = sample_x.shape[-1]\n",
    "hidden_dim = 12  # Count of hidden neurons in the recurrent units.\n",
    "# Number of stacked recurrent cells, on the neural depth axis.\n",
    "layers_stacked_count = 2\n",
    "\n",
    "# Optmizer:\n",
    "learning_rate = 0.007  # Small lr helps not to diverge during training.\n",
    "# How many times we perform a training step (therefore how many times we\n",
    "# show a batch).\n",
    "nb_iters = 150\n",
    "lr_decay = 0.92  # default: 0.9 . Simulated annealing.\n",
    "momentum = 0.5  # default: 0.0 . Momentum technique in weights update\n",
    "lambda_l2_reg = 0.003  # L2 regularization of weights - avoids overfitting"
   ]
  },
  {
   "cell_type": "code",
   "execution_count": null,
   "metadata": {},
   "outputs": [],
   "source": [
    "test_encoder = Encoder(input_dim, hidden_dim, number_of_layers=layers_stacked_count)\n",
    "\n",
    "# initialize the hidden state(num_layers, batch_size, hidden_size).\n",
    "hidden = (autograd.Variable(torch.randn((layers_stacked_count, batch_size, hidden_dim))),\n",
    "          autograd.Variable(torch.randn((layers_stacked_count, batch_size, hidden_dim))))\n",
    "\n",
    "sample_x, sample_y = generate_data(isTrain=True, batch_size=batch_size)\n",
    "input = autograd.Variable(torch.FloatTensor(sample_x))\n",
    "print(input)"
   ]
  },
  {
   "cell_type": "code",
   "execution_count": null,
   "metadata": {},
   "outputs": [],
   "source": [
    "encoder_state = test_encoder(input,hidden)"
   ]
  },
  {
   "cell_type": "code",
   "execution_count": null,
   "metadata": {},
   "outputs": [],
   "source": []
  },
  {
   "cell_type": "code",
   "execution_count": null,
   "metadata": {
    "collapsed": true
   },
   "outputs": [],
   "source": []
  }
 ],
 "metadata": {
  "kernelspec": {
   "display_name": "Python 3",
   "language": "python",
   "name": "python3"
  },
  "language_info": {
   "codemirror_mode": {
    "name": "ipython",
    "version": 3
   },
   "file_extension": ".py",
   "mimetype": "text/x-python",
   "name": "python",
   "nbconvert_exporter": "python",
   "pygments_lexer": "ipython3",
   "version": "3.6.1"
  }
 },
 "nbformat": 4,
 "nbformat_minor": 2
}
